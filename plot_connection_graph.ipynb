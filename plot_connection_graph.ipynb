{
 "cells": [
  {
   "cell_type": "code",
   "execution_count": 1,
   "metadata": {},
   "outputs": [],
   "source": [
    "import numpy as np\n",
    "import pandas as pd\n",
    "import networkx as nx\n",
    "import plotly.graph_objects as go\n",
    "from pyvis.network import Network"
   ]
  },
  {
   "cell_type": "code",
   "execution_count": 2,
   "metadata": {},
   "outputs": [],
   "source": [
    "fname = \"HoursJanMay2022.xlsx\"\n",
    "raw_df = pd.read_excel(fname)\n",
    "df = raw_df.groupby(['Employee','Project','Hour or cost type']).sum()['Quantity']"
   ]
  },
  {
   "cell_type": "code",
   "execution_count": 3,
   "metadata": {},
   "outputs": [],
   "source": [
    "\n",
    "ignore_proj = ['Other personnel related costs', 'Work council', 'Acquisition', \n",
    "               'Call Activities', 'Communication','Knowledge Development', 'Operations & Support',\n",
    "               'Line management and internal strategy','Parental Leave','Personal development (not project related)','Dissemination & Community']\n",
    "ignore_emp = ['Nicolas Renaud', 'Yifat Dzigan', 'Willem van Hage','Rob van Nieuwpoort',\n",
    "              'Rena Bakhshi','Pablo Lopez-Tarifa','Niels Drost','Lars Ridder','Jisk Attema','Patrick Bos',\n",
    "              'Maria Chertova', 'Jesús Garcia González']"
   ]
  },
  {
   "cell_type": "code",
   "execution_count": 5,
   "metadata": {},
   "outputs": [],
   "source": [
    "G0 = nx.Graph()\n",
    "\n",
    "for (emp, proj, _), hours in df.items():\n",
    "    \n",
    "    if proj not in ignore_proj:\n",
    "        if emp not in ignore_emp:\n",
    "            G0.add_node(emp, type='rse')\n",
    "            G0.add_node(proj, type='project')\n",
    "            G0.add_edge(emp,proj,weight=hours)"
   ]
  },
  {
   "cell_type": "code",
   "execution_count": 17,
   "metadata": {},
   "outputs": [],
   "source": [
    "G = nx.Graph()\n",
    "for n,attr in G0.nodes.data():\n",
    "\n",
    "    if attr['type']=='project':\n",
    "        e = list(G0.edges(n))\n",
    "        nedge = len(e)\n",
    "        for ie in range(nedge-1):\n",
    "            eng1 = e[ie][1]\n",
    "            for iie in range(1,nedge):\n",
    "                eng2 = e[iie][1]\n",
    "\n",
    "                G.add_node(eng1)\n",
    "                G.add_node(eng2)\n",
    "                \n",
    "                w1 = G0.get_edge_data(eng1,n)['weight']\n",
    "                w2 = G0.get_edge_data(eng2,n)['weight']\n",
    "                w = w1+w2\n",
    "                if w>2E2:\n",
    "                    w = np.exp(0.001*w)-1\n",
    "                    G.add_edge(eng1,eng2,weight=w"
   ]
  },
  {
   "cell_type": "code",
   "execution_count": 18,
   "metadata": {},
   "outputs": [
    {
     "data": {
      "text/html": [
       "\n",
       "        <iframe\n",
       "            width=\"100%\"\n",
       "            height=\"800px\"\n",
       "            src=\"graph.html\"\n",
       "            frameborder=\"0\"\n",
       "            allowfullscreen\n",
       "        ></iframe>\n",
       "        "
      ],
      "text/plain": [
       "<IPython.lib.display.IFrame at 0x1e877938e20>"
      ]
     },
     "execution_count": 18,
     "metadata": {},
     "output_type": "execute_result"
    }
   ],
   "source": [
    "\n",
    "g = Network(height='800px', width='100%',heading='',bgcolor='black',font_color=\"white\", notebook=True)\n",
    "# g.barnes_hut()\n",
    "g.from_nx(G)\n",
    "\n",
    "g.toggle_physics(True)\n",
    "g.show_buttons(filter_=['physics'])\n",
    "\n",
    "g.show('graph.html')"
   ]
  },
  {
   "cell_type": "code",
   "execution_count": null,
   "metadata": {},
   "outputs": [],
   "source": []
  }
 ],
 "metadata": {
  "kernelspec": {
   "display_name": "Python 3",
   "language": "python",
   "name": "python3"
  },
  "language_info": {
   "codemirror_mode": {
    "name": "ipython",
    "version": 3
   },
   "file_extension": ".py",
   "mimetype": "text/x-python",
   "name": "python",
   "nbconvert_exporter": "python",
   "pygments_lexer": "ipython3",
   "version": "3.8.0"
  }
 },
 "nbformat": 4,
 "nbformat_minor": 4
}
