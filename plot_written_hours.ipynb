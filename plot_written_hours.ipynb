{
 "cells": [
  {
   "cell_type": "code",
   "execution_count": 1,
   "metadata": {},
   "outputs": [],
   "source": [
    "import pandas as pd\n",
    "import numpy as np\n",
    "import networkx as nx\n",
    "import plotly.express as px\n",
    "import ipywidgets as widgets"
   ]
  },
  {
   "cell_type": "code",
   "execution_count": 2,
   "metadata": {},
   "outputs": [],
   "source": [
    "from process_data import extract_data, plot_engineer_sunburst, plot_project_sunburst"
   ]
  },
  {
   "cell_type": "code",
   "execution_count": 3,
   "metadata": {},
   "outputs": [],
   "source": [
    "df = extract_data(\"exactdump_6month.xlsx\")"
   ]
  },
  {
   "cell_type": "code",
   "execution_count": 10,
   "metadata": {},
   "outputs": [
    {
     "data": {
      "application/vnd.jupyter.widget-view+json": {
       "model_id": "aa14d582ac4a40e48f17da0cc5a8eeb4",
       "version_major": 2,
       "version_minor": 0
      },
      "text/plain": [
       "Dropdown(options=('Abel Soares Siqueira', 'Adam Belloum', 'Adriënne Mendrik', 'Alessio Sclocco', 'Barbara Vree…"
      ]
     },
     "metadata": {},
     "output_type": "display_data"
    }
   ],
   "source": [
    "name_list = list(df.index)\n",
    "name_list.sort()\n",
    "name = widgets.Dropdown(options = name_list)\n",
    "display(name)"
   ]
  },
  {
   "cell_type": "code",
   "execution_count": 37,
   "metadata": {},
   "outputs": [
    {
     "data": {
      "application/vnd.plotly.v1+json": {
       "config": {
        "plotlyServerURL": "https://plot.ly"
       },
       "data": [
        {
         "branchvalues": "total",
         "domain": {
          "x": [
           0,
           1
          ],
          "y": [
           0,
           1
          ]
         },
         "hovertemplate": "labels=%{label}<br>hours=%{value}<br>parent=%{parent}<br>id=%{id}<extra></extra>",
         "ids": [
          "Lieke de Boer/Other/Dissemination & Community",
          "Lieke de Boer/Other/Other personnel related costs",
          "Lieke de Boer/Other",
          "Lieke de Boer"
         ],
         "labels": [
          "Dissemination & Community",
          "Other personnel related costs",
          "Other",
          "Lieke de Boer"
         ],
         "name": "",
         "parents": [
          "Lieke de Boer/Other",
          "Lieke de Boer/Other",
          "Lieke de Boer",
          ""
         ],
         "type": "sunburst",
         "values": [
          888,
          160,
          1048,
          1048
         ]
        }
       ],
       "layout": {
        "legend": {
         "tracegroupgap": 0
        },
        "margin": {
         "t": 60
        },
        "template": {
         "data": {
          "bar": [
           {
            "error_x": {
             "color": "#2a3f5f"
            },
            "error_y": {
             "color": "#2a3f5f"
            },
            "marker": {
             "line": {
              "color": "#E5ECF6",
              "width": 0.5
             },
             "pattern": {
              "fillmode": "overlay",
              "size": 10,
              "solidity": 0.2
             }
            },
            "type": "bar"
           }
          ],
          "barpolar": [
           {
            "marker": {
             "line": {
              "color": "#E5ECF6",
              "width": 0.5
             },
             "pattern": {
              "fillmode": "overlay",
              "size": 10,
              "solidity": 0.2
             }
            },
            "type": "barpolar"
           }
          ],
          "carpet": [
           {
            "aaxis": {
             "endlinecolor": "#2a3f5f",
             "gridcolor": "white",
             "linecolor": "white",
             "minorgridcolor": "white",
             "startlinecolor": "#2a3f5f"
            },
            "baxis": {
             "endlinecolor": "#2a3f5f",
             "gridcolor": "white",
             "linecolor": "white",
             "minorgridcolor": "white",
             "startlinecolor": "#2a3f5f"
            },
            "type": "carpet"
           }
          ],
          "choropleth": [
           {
            "colorbar": {
             "outlinewidth": 0,
             "ticks": ""
            },
            "type": "choropleth"
           }
          ],
          "contour": [
           {
            "colorbar": {
             "outlinewidth": 0,
             "ticks": ""
            },
            "colorscale": [
             [
              0,
              "#0d0887"
             ],
             [
              0.1111111111111111,
              "#46039f"
             ],
             [
              0.2222222222222222,
              "#7201a8"
             ],
             [
              0.3333333333333333,
              "#9c179e"
             ],
             [
              0.4444444444444444,
              "#bd3786"
             ],
             [
              0.5555555555555556,
              "#d8576b"
             ],
             [
              0.6666666666666666,
              "#ed7953"
             ],
             [
              0.7777777777777778,
              "#fb9f3a"
             ],
             [
              0.8888888888888888,
              "#fdca26"
             ],
             [
              1,
              "#f0f921"
             ]
            ],
            "type": "contour"
           }
          ],
          "contourcarpet": [
           {
            "colorbar": {
             "outlinewidth": 0,
             "ticks": ""
            },
            "type": "contourcarpet"
           }
          ],
          "heatmap": [
           {
            "colorbar": {
             "outlinewidth": 0,
             "ticks": ""
            },
            "colorscale": [
             [
              0,
              "#0d0887"
             ],
             [
              0.1111111111111111,
              "#46039f"
             ],
             [
              0.2222222222222222,
              "#7201a8"
             ],
             [
              0.3333333333333333,
              "#9c179e"
             ],
             [
              0.4444444444444444,
              "#bd3786"
             ],
             [
              0.5555555555555556,
              "#d8576b"
             ],
             [
              0.6666666666666666,
              "#ed7953"
             ],
             [
              0.7777777777777778,
              "#fb9f3a"
             ],
             [
              0.8888888888888888,
              "#fdca26"
             ],
             [
              1,
              "#f0f921"
             ]
            ],
            "type": "heatmap"
           }
          ],
          "heatmapgl": [
           {
            "colorbar": {
             "outlinewidth": 0,
             "ticks": ""
            },
            "colorscale": [
             [
              0,
              "#0d0887"
             ],
             [
              0.1111111111111111,
              "#46039f"
             ],
             [
              0.2222222222222222,
              "#7201a8"
             ],
             [
              0.3333333333333333,
              "#9c179e"
             ],
             [
              0.4444444444444444,
              "#bd3786"
             ],
             [
              0.5555555555555556,
              "#d8576b"
             ],
             [
              0.6666666666666666,
              "#ed7953"
             ],
             [
              0.7777777777777778,
              "#fb9f3a"
             ],
             [
              0.8888888888888888,
              "#fdca26"
             ],
             [
              1,
              "#f0f921"
             ]
            ],
            "type": "heatmapgl"
           }
          ],
          "histogram": [
           {
            "marker": {
             "pattern": {
              "fillmode": "overlay",
              "size": 10,
              "solidity": 0.2
             }
            },
            "type": "histogram"
           }
          ],
          "histogram2d": [
           {
            "colorbar": {
             "outlinewidth": 0,
             "ticks": ""
            },
            "colorscale": [
             [
              0,
              "#0d0887"
             ],
             [
              0.1111111111111111,
              "#46039f"
             ],
             [
              0.2222222222222222,
              "#7201a8"
             ],
             [
              0.3333333333333333,
              "#9c179e"
             ],
             [
              0.4444444444444444,
              "#bd3786"
             ],
             [
              0.5555555555555556,
              "#d8576b"
             ],
             [
              0.6666666666666666,
              "#ed7953"
             ],
             [
              0.7777777777777778,
              "#fb9f3a"
             ],
             [
              0.8888888888888888,
              "#fdca26"
             ],
             [
              1,
              "#f0f921"
             ]
            ],
            "type": "histogram2d"
           }
          ],
          "histogram2dcontour": [
           {
            "colorbar": {
             "outlinewidth": 0,
             "ticks": ""
            },
            "colorscale": [
             [
              0,
              "#0d0887"
             ],
             [
              0.1111111111111111,
              "#46039f"
             ],
             [
              0.2222222222222222,
              "#7201a8"
             ],
             [
              0.3333333333333333,
              "#9c179e"
             ],
             [
              0.4444444444444444,
              "#bd3786"
             ],
             [
              0.5555555555555556,
              "#d8576b"
             ],
             [
              0.6666666666666666,
              "#ed7953"
             ],
             [
              0.7777777777777778,
              "#fb9f3a"
             ],
             [
              0.8888888888888888,
              "#fdca26"
             ],
             [
              1,
              "#f0f921"
             ]
            ],
            "type": "histogram2dcontour"
           }
          ],
          "mesh3d": [
           {
            "colorbar": {
             "outlinewidth": 0,
             "ticks": ""
            },
            "type": "mesh3d"
           }
          ],
          "parcoords": [
           {
            "line": {
             "colorbar": {
              "outlinewidth": 0,
              "ticks": ""
             }
            },
            "type": "parcoords"
           }
          ],
          "pie": [
           {
            "automargin": true,
            "type": "pie"
           }
          ],
          "scatter": [
           {
            "marker": {
             "colorbar": {
              "outlinewidth": 0,
              "ticks": ""
             }
            },
            "type": "scatter"
           }
          ],
          "scatter3d": [
           {
            "line": {
             "colorbar": {
              "outlinewidth": 0,
              "ticks": ""
             }
            },
            "marker": {
             "colorbar": {
              "outlinewidth": 0,
              "ticks": ""
             }
            },
            "type": "scatter3d"
           }
          ],
          "scattercarpet": [
           {
            "marker": {
             "colorbar": {
              "outlinewidth": 0,
              "ticks": ""
             }
            },
            "type": "scattercarpet"
           }
          ],
          "scattergeo": [
           {
            "marker": {
             "colorbar": {
              "outlinewidth": 0,
              "ticks": ""
             }
            },
            "type": "scattergeo"
           }
          ],
          "scattergl": [
           {
            "marker": {
             "colorbar": {
              "outlinewidth": 0,
              "ticks": ""
             }
            },
            "type": "scattergl"
           }
          ],
          "scattermapbox": [
           {
            "marker": {
             "colorbar": {
              "outlinewidth": 0,
              "ticks": ""
             }
            },
            "type": "scattermapbox"
           }
          ],
          "scatterpolar": [
           {
            "marker": {
             "colorbar": {
              "outlinewidth": 0,
              "ticks": ""
             }
            },
            "type": "scatterpolar"
           }
          ],
          "scatterpolargl": [
           {
            "marker": {
             "colorbar": {
              "outlinewidth": 0,
              "ticks": ""
             }
            },
            "type": "scatterpolargl"
           }
          ],
          "scatterternary": [
           {
            "marker": {
             "colorbar": {
              "outlinewidth": 0,
              "ticks": ""
             }
            },
            "type": "scatterternary"
           }
          ],
          "surface": [
           {
            "colorbar": {
             "outlinewidth": 0,
             "ticks": ""
            },
            "colorscale": [
             [
              0,
              "#0d0887"
             ],
             [
              0.1111111111111111,
              "#46039f"
             ],
             [
              0.2222222222222222,
              "#7201a8"
             ],
             [
              0.3333333333333333,
              "#9c179e"
             ],
             [
              0.4444444444444444,
              "#bd3786"
             ],
             [
              0.5555555555555556,
              "#d8576b"
             ],
             [
              0.6666666666666666,
              "#ed7953"
             ],
             [
              0.7777777777777778,
              "#fb9f3a"
             ],
             [
              0.8888888888888888,
              "#fdca26"
             ],
             [
              1,
              "#f0f921"
             ]
            ],
            "type": "surface"
           }
          ],
          "table": [
           {
            "cells": {
             "fill": {
              "color": "#EBF0F8"
             },
             "line": {
              "color": "white"
             }
            },
            "header": {
             "fill": {
              "color": "#C8D4E3"
             },
             "line": {
              "color": "white"
             }
            },
            "type": "table"
           }
          ]
         },
         "layout": {
          "annotationdefaults": {
           "arrowcolor": "#2a3f5f",
           "arrowhead": 0,
           "arrowwidth": 1
          },
          "autotypenumbers": "strict",
          "coloraxis": {
           "colorbar": {
            "outlinewidth": 0,
            "ticks": ""
           }
          },
          "colorscale": {
           "diverging": [
            [
             0,
             "#8e0152"
            ],
            [
             0.1,
             "#c51b7d"
            ],
            [
             0.2,
             "#de77ae"
            ],
            [
             0.3,
             "#f1b6da"
            ],
            [
             0.4,
             "#fde0ef"
            ],
            [
             0.5,
             "#f7f7f7"
            ],
            [
             0.6,
             "#e6f5d0"
            ],
            [
             0.7,
             "#b8e186"
            ],
            [
             0.8,
             "#7fbc41"
            ],
            [
             0.9,
             "#4d9221"
            ],
            [
             1,
             "#276419"
            ]
           ],
           "sequential": [
            [
             0,
             "#0d0887"
            ],
            [
             0.1111111111111111,
             "#46039f"
            ],
            [
             0.2222222222222222,
             "#7201a8"
            ],
            [
             0.3333333333333333,
             "#9c179e"
            ],
            [
             0.4444444444444444,
             "#bd3786"
            ],
            [
             0.5555555555555556,
             "#d8576b"
            ],
            [
             0.6666666666666666,
             "#ed7953"
            ],
            [
             0.7777777777777778,
             "#fb9f3a"
            ],
            [
             0.8888888888888888,
             "#fdca26"
            ],
            [
             1,
             "#f0f921"
            ]
           ],
           "sequentialminus": [
            [
             0,
             "#0d0887"
            ],
            [
             0.1111111111111111,
             "#46039f"
            ],
            [
             0.2222222222222222,
             "#7201a8"
            ],
            [
             0.3333333333333333,
             "#9c179e"
            ],
            [
             0.4444444444444444,
             "#bd3786"
            ],
            [
             0.5555555555555556,
             "#d8576b"
            ],
            [
             0.6666666666666666,
             "#ed7953"
            ],
            [
             0.7777777777777778,
             "#fb9f3a"
            ],
            [
             0.8888888888888888,
             "#fdca26"
            ],
            [
             1,
             "#f0f921"
            ]
           ]
          },
          "colorway": [
           "#636efa",
           "#EF553B",
           "#00cc96",
           "#ab63fa",
           "#FFA15A",
           "#19d3f3",
           "#FF6692",
           "#B6E880",
           "#FF97FF",
           "#FECB52"
          ],
          "font": {
           "color": "#2a3f5f"
          },
          "geo": {
           "bgcolor": "white",
           "lakecolor": "white",
           "landcolor": "#E5ECF6",
           "showlakes": true,
           "showland": true,
           "subunitcolor": "white"
          },
          "hoverlabel": {
           "align": "left"
          },
          "hovermode": "closest",
          "mapbox": {
           "style": "light"
          },
          "paper_bgcolor": "white",
          "plot_bgcolor": "#E5ECF6",
          "polar": {
           "angularaxis": {
            "gridcolor": "white",
            "linecolor": "white",
            "ticks": ""
           },
           "bgcolor": "#E5ECF6",
           "radialaxis": {
            "gridcolor": "white",
            "linecolor": "white",
            "ticks": ""
           }
          },
          "scene": {
           "xaxis": {
            "backgroundcolor": "#E5ECF6",
            "gridcolor": "white",
            "gridwidth": 2,
            "linecolor": "white",
            "showbackground": true,
            "ticks": "",
            "zerolinecolor": "white"
           },
           "yaxis": {
            "backgroundcolor": "#E5ECF6",
            "gridcolor": "white",
            "gridwidth": 2,
            "linecolor": "white",
            "showbackground": true,
            "ticks": "",
            "zerolinecolor": "white"
           },
           "zaxis": {
            "backgroundcolor": "#E5ECF6",
            "gridcolor": "white",
            "gridwidth": 2,
            "linecolor": "white",
            "showbackground": true,
            "ticks": "",
            "zerolinecolor": "white"
           }
          },
          "shapedefaults": {
           "line": {
            "color": "#2a3f5f"
           }
          },
          "ternary": {
           "aaxis": {
            "gridcolor": "white",
            "linecolor": "white",
            "ticks": ""
           },
           "baxis": {
            "gridcolor": "white",
            "linecolor": "white",
            "ticks": ""
           },
           "bgcolor": "#E5ECF6",
           "caxis": {
            "gridcolor": "white",
            "linecolor": "white",
            "ticks": ""
           }
          },
          "title": {
           "x": 0.05
          },
          "xaxis": {
           "automargin": true,
           "gridcolor": "white",
           "linecolor": "white",
           "ticks": "",
           "title": {
            "standoff": 15
           },
           "zerolinecolor": "white",
           "zerolinewidth": 2
          },
          "yaxis": {
           "automargin": true,
           "gridcolor": "white",
           "linecolor": "white",
           "ticks": "",
           "title": {
            "standoff": 15
           },
           "zerolinecolor": "white",
           "zerolinewidth": 2
          }
         }
        }
       }
      },
      "text/html": [
       "<div>                            <div id=\"9bc6ac1b-995b-4a44-9934-3d609ff56682\" class=\"plotly-graph-div\" style=\"height:525px; width:100%;\"></div>            <script type=\"text/javascript\">                require([\"plotly\"], function(Plotly) {                    window.PLOTLYENV=window.PLOTLYENV || {};                                    if (document.getElementById(\"9bc6ac1b-995b-4a44-9934-3d609ff56682\")) {                    Plotly.newPlot(                        \"9bc6ac1b-995b-4a44-9934-3d609ff56682\",                        [{\"branchvalues\":\"total\",\"domain\":{\"x\":[0.0,1.0],\"y\":[0.0,1.0]},\"hovertemplate\":\"labels=%{label}<br>hours=%{value}<br>parent=%{parent}<br>id=%{id}<extra></extra>\",\"ids\":[\"Lieke de Boer/Other/Dissemination & Community\",\"Lieke de Boer/Other/Other personnel related costs\",\"Lieke de Boer/Other\",\"Lieke de Boer\"],\"labels\":[\"Dissemination & Community\",\"Other personnel related costs\",\"Other\",\"Lieke de Boer\"],\"name\":\"\",\"parents\":[\"Lieke de Boer/Other\",\"Lieke de Boer/Other\",\"Lieke de Boer\",\"\"],\"values\":[888.0,160.0,1048.0,1048.0],\"type\":\"sunburst\"}],                        {\"template\":{\"data\":{\"bar\":[{\"error_x\":{\"color\":\"#2a3f5f\"},\"error_y\":{\"color\":\"#2a3f5f\"},\"marker\":{\"line\":{\"color\":\"#E5ECF6\",\"width\":0.5},\"pattern\":{\"fillmode\":\"overlay\",\"size\":10,\"solidity\":0.2}},\"type\":\"bar\"}],\"barpolar\":[{\"marker\":{\"line\":{\"color\":\"#E5ECF6\",\"width\":0.5},\"pattern\":{\"fillmode\":\"overlay\",\"size\":10,\"solidity\":0.2}},\"type\":\"barpolar\"}],\"carpet\":[{\"aaxis\":{\"endlinecolor\":\"#2a3f5f\",\"gridcolor\":\"white\",\"linecolor\":\"white\",\"minorgridcolor\":\"white\",\"startlinecolor\":\"#2a3f5f\"},\"baxis\":{\"endlinecolor\":\"#2a3f5f\",\"gridcolor\":\"white\",\"linecolor\":\"white\",\"minorgridcolor\":\"white\",\"startlinecolor\":\"#2a3f5f\"},\"type\":\"carpet\"}],\"choropleth\":[{\"colorbar\":{\"outlinewidth\":0,\"ticks\":\"\"},\"type\":\"choropleth\"}],\"contour\":[{\"colorbar\":{\"outlinewidth\":0,\"ticks\":\"\"},\"colorscale\":[[0.0,\"#0d0887\"],[0.1111111111111111,\"#46039f\"],[0.2222222222222222,\"#7201a8\"],[0.3333333333333333,\"#9c179e\"],[0.4444444444444444,\"#bd3786\"],[0.5555555555555556,\"#d8576b\"],[0.6666666666666666,\"#ed7953\"],[0.7777777777777778,\"#fb9f3a\"],[0.8888888888888888,\"#fdca26\"],[1.0,\"#f0f921\"]],\"type\":\"contour\"}],\"contourcarpet\":[{\"colorbar\":{\"outlinewidth\":0,\"ticks\":\"\"},\"type\":\"contourcarpet\"}],\"heatmap\":[{\"colorbar\":{\"outlinewidth\":0,\"ticks\":\"\"},\"colorscale\":[[0.0,\"#0d0887\"],[0.1111111111111111,\"#46039f\"],[0.2222222222222222,\"#7201a8\"],[0.3333333333333333,\"#9c179e\"],[0.4444444444444444,\"#bd3786\"],[0.5555555555555556,\"#d8576b\"],[0.6666666666666666,\"#ed7953\"],[0.7777777777777778,\"#fb9f3a\"],[0.8888888888888888,\"#fdca26\"],[1.0,\"#f0f921\"]],\"type\":\"heatmap\"}],\"heatmapgl\":[{\"colorbar\":{\"outlinewidth\":0,\"ticks\":\"\"},\"colorscale\":[[0.0,\"#0d0887\"],[0.1111111111111111,\"#46039f\"],[0.2222222222222222,\"#7201a8\"],[0.3333333333333333,\"#9c179e\"],[0.4444444444444444,\"#bd3786\"],[0.5555555555555556,\"#d8576b\"],[0.6666666666666666,\"#ed7953\"],[0.7777777777777778,\"#fb9f3a\"],[0.8888888888888888,\"#fdca26\"],[1.0,\"#f0f921\"]],\"type\":\"heatmapgl\"}],\"histogram\":[{\"marker\":{\"pattern\":{\"fillmode\":\"overlay\",\"size\":10,\"solidity\":0.2}},\"type\":\"histogram\"}],\"histogram2d\":[{\"colorbar\":{\"outlinewidth\":0,\"ticks\":\"\"},\"colorscale\":[[0.0,\"#0d0887\"],[0.1111111111111111,\"#46039f\"],[0.2222222222222222,\"#7201a8\"],[0.3333333333333333,\"#9c179e\"],[0.4444444444444444,\"#bd3786\"],[0.5555555555555556,\"#d8576b\"],[0.6666666666666666,\"#ed7953\"],[0.7777777777777778,\"#fb9f3a\"],[0.8888888888888888,\"#fdca26\"],[1.0,\"#f0f921\"]],\"type\":\"histogram2d\"}],\"histogram2dcontour\":[{\"colorbar\":{\"outlinewidth\":0,\"ticks\":\"\"},\"colorscale\":[[0.0,\"#0d0887\"],[0.1111111111111111,\"#46039f\"],[0.2222222222222222,\"#7201a8\"],[0.3333333333333333,\"#9c179e\"],[0.4444444444444444,\"#bd3786\"],[0.5555555555555556,\"#d8576b\"],[0.6666666666666666,\"#ed7953\"],[0.7777777777777778,\"#fb9f3a\"],[0.8888888888888888,\"#fdca26\"],[1.0,\"#f0f921\"]],\"type\":\"histogram2dcontour\"}],\"mesh3d\":[{\"colorbar\":{\"outlinewidth\":0,\"ticks\":\"\"},\"type\":\"mesh3d\"}],\"parcoords\":[{\"line\":{\"colorbar\":{\"outlinewidth\":0,\"ticks\":\"\"}},\"type\":\"parcoords\"}],\"pie\":[{\"automargin\":true,\"type\":\"pie\"}],\"scatter\":[{\"marker\":{\"colorbar\":{\"outlinewidth\":0,\"ticks\":\"\"}},\"type\":\"scatter\"}],\"scatter3d\":[{\"line\":{\"colorbar\":{\"outlinewidth\":0,\"ticks\":\"\"}},\"marker\":{\"colorbar\":{\"outlinewidth\":0,\"ticks\":\"\"}},\"type\":\"scatter3d\"}],\"scattercarpet\":[{\"marker\":{\"colorbar\":{\"outlinewidth\":0,\"ticks\":\"\"}},\"type\":\"scattercarpet\"}],\"scattergeo\":[{\"marker\":{\"colorbar\":{\"outlinewidth\":0,\"ticks\":\"\"}},\"type\":\"scattergeo\"}],\"scattergl\":[{\"marker\":{\"colorbar\":{\"outlinewidth\":0,\"ticks\":\"\"}},\"type\":\"scattergl\"}],\"scattermapbox\":[{\"marker\":{\"colorbar\":{\"outlinewidth\":0,\"ticks\":\"\"}},\"type\":\"scattermapbox\"}],\"scatterpolar\":[{\"marker\":{\"colorbar\":{\"outlinewidth\":0,\"ticks\":\"\"}},\"type\":\"scatterpolar\"}],\"scatterpolargl\":[{\"marker\":{\"colorbar\":{\"outlinewidth\":0,\"ticks\":\"\"}},\"type\":\"scatterpolargl\"}],\"scatterternary\":[{\"marker\":{\"colorbar\":{\"outlinewidth\":0,\"ticks\":\"\"}},\"type\":\"scatterternary\"}],\"surface\":[{\"colorbar\":{\"outlinewidth\":0,\"ticks\":\"\"},\"colorscale\":[[0.0,\"#0d0887\"],[0.1111111111111111,\"#46039f\"],[0.2222222222222222,\"#7201a8\"],[0.3333333333333333,\"#9c179e\"],[0.4444444444444444,\"#bd3786\"],[0.5555555555555556,\"#d8576b\"],[0.6666666666666666,\"#ed7953\"],[0.7777777777777778,\"#fb9f3a\"],[0.8888888888888888,\"#fdca26\"],[1.0,\"#f0f921\"]],\"type\":\"surface\"}],\"table\":[{\"cells\":{\"fill\":{\"color\":\"#EBF0F8\"},\"line\":{\"color\":\"white\"}},\"header\":{\"fill\":{\"color\":\"#C8D4E3\"},\"line\":{\"color\":\"white\"}},\"type\":\"table\"}]},\"layout\":{\"annotationdefaults\":{\"arrowcolor\":\"#2a3f5f\",\"arrowhead\":0,\"arrowwidth\":1},\"autotypenumbers\":\"strict\",\"coloraxis\":{\"colorbar\":{\"outlinewidth\":0,\"ticks\":\"\"}},\"colorscale\":{\"diverging\":[[0,\"#8e0152\"],[0.1,\"#c51b7d\"],[0.2,\"#de77ae\"],[0.3,\"#f1b6da\"],[0.4,\"#fde0ef\"],[0.5,\"#f7f7f7\"],[0.6,\"#e6f5d0\"],[0.7,\"#b8e186\"],[0.8,\"#7fbc41\"],[0.9,\"#4d9221\"],[1,\"#276419\"]],\"sequential\":[[0.0,\"#0d0887\"],[0.1111111111111111,\"#46039f\"],[0.2222222222222222,\"#7201a8\"],[0.3333333333333333,\"#9c179e\"],[0.4444444444444444,\"#bd3786\"],[0.5555555555555556,\"#d8576b\"],[0.6666666666666666,\"#ed7953\"],[0.7777777777777778,\"#fb9f3a\"],[0.8888888888888888,\"#fdca26\"],[1.0,\"#f0f921\"]],\"sequentialminus\":[[0.0,\"#0d0887\"],[0.1111111111111111,\"#46039f\"],[0.2222222222222222,\"#7201a8\"],[0.3333333333333333,\"#9c179e\"],[0.4444444444444444,\"#bd3786\"],[0.5555555555555556,\"#d8576b\"],[0.6666666666666666,\"#ed7953\"],[0.7777777777777778,\"#fb9f3a\"],[0.8888888888888888,\"#fdca26\"],[1.0,\"#f0f921\"]]},\"colorway\":[\"#636efa\",\"#EF553B\",\"#00cc96\",\"#ab63fa\",\"#FFA15A\",\"#19d3f3\",\"#FF6692\",\"#B6E880\",\"#FF97FF\",\"#FECB52\"],\"font\":{\"color\":\"#2a3f5f\"},\"geo\":{\"bgcolor\":\"white\",\"lakecolor\":\"white\",\"landcolor\":\"#E5ECF6\",\"showlakes\":true,\"showland\":true,\"subunitcolor\":\"white\"},\"hoverlabel\":{\"align\":\"left\"},\"hovermode\":\"closest\",\"mapbox\":{\"style\":\"light\"},\"paper_bgcolor\":\"white\",\"plot_bgcolor\":\"#E5ECF6\",\"polar\":{\"angularaxis\":{\"gridcolor\":\"white\",\"linecolor\":\"white\",\"ticks\":\"\"},\"bgcolor\":\"#E5ECF6\",\"radialaxis\":{\"gridcolor\":\"white\",\"linecolor\":\"white\",\"ticks\":\"\"}},\"scene\":{\"xaxis\":{\"backgroundcolor\":\"#E5ECF6\",\"gridcolor\":\"white\",\"gridwidth\":2,\"linecolor\":\"white\",\"showbackground\":true,\"ticks\":\"\",\"zerolinecolor\":\"white\"},\"yaxis\":{\"backgroundcolor\":\"#E5ECF6\",\"gridcolor\":\"white\",\"gridwidth\":2,\"linecolor\":\"white\",\"showbackground\":true,\"ticks\":\"\",\"zerolinecolor\":\"white\"},\"zaxis\":{\"backgroundcolor\":\"#E5ECF6\",\"gridcolor\":\"white\",\"gridwidth\":2,\"linecolor\":\"white\",\"showbackground\":true,\"ticks\":\"\",\"zerolinecolor\":\"white\"}},\"shapedefaults\":{\"line\":{\"color\":\"#2a3f5f\"}},\"ternary\":{\"aaxis\":{\"gridcolor\":\"white\",\"linecolor\":\"white\",\"ticks\":\"\"},\"baxis\":{\"gridcolor\":\"white\",\"linecolor\":\"white\",\"ticks\":\"\"},\"bgcolor\":\"#E5ECF6\",\"caxis\":{\"gridcolor\":\"white\",\"linecolor\":\"white\",\"ticks\":\"\"}},\"title\":{\"x\":0.05},\"xaxis\":{\"automargin\":true,\"gridcolor\":\"white\",\"linecolor\":\"white\",\"ticks\":\"\",\"title\":{\"standoff\":15},\"zerolinecolor\":\"white\",\"zerolinewidth\":2},\"yaxis\":{\"automargin\":true,\"gridcolor\":\"white\",\"linecolor\":\"white\",\"ticks\":\"\",\"title\":{\"standoff\":15},\"zerolinecolor\":\"white\",\"zerolinewidth\":2}}},\"legend\":{\"tracegroupgap\":0},\"margin\":{\"t\":60}},                        {\"responsive\": true}                    ).then(function(){\n",
       "                            \n",
       "var gd = document.getElementById('9bc6ac1b-995b-4a44-9934-3d609ff56682');\n",
       "var x = new MutationObserver(function (mutations, observer) {{\n",
       "        var display = window.getComputedStyle(gd).display;\n",
       "        if (!display || display === 'none') {{\n",
       "            console.log([gd, 'removed!']);\n",
       "            Plotly.purge(gd);\n",
       "            observer.disconnect();\n",
       "        }}\n",
       "}});\n",
       "\n",
       "// Listen for the removal of the full notebook cells\n",
       "var notebookContainer = gd.closest('#notebook-container');\n",
       "if (notebookContainer) {{\n",
       "    x.observe(notebookContainer, {childList: true});\n",
       "}}\n",
       "\n",
       "// Listen for the clearing of the current output cell\n",
       "var outputEl = gd.closest('.output');\n",
       "if (outputEl) {{\n",
       "    x.observe(outputEl, {childList: true});\n",
       "}}\n",
       "\n",
       "                        })                };                });            </script>        </div>"
      ]
     },
     "metadata": {},
     "output_type": "display_data"
    }
   ],
   "source": [
    "plot_engineer_sunburst(df, name.value)"
   ]
  },
  {
   "cell_type": "code",
   "execution_count": 17,
   "metadata": {},
   "outputs": [
    {
     "data": {
      "application/vnd.jupyter.widget-view+json": {
       "model_id": "2a1d5bd532a3428b8122f354afce48bf",
       "version_major": 2,
       "version_minor": 0
      },
      "text/plain": [
       "Dropdown(options=('A light in the dark: quantum Monte Carlo meets solar energy', 'A new perspective on global …"
      ]
     },
     "metadata": {},
     "output_type": "display_data"
    }
   ],
   "source": [
    "proj_name_list = list(df.keys())\n",
    "proj_name_list.sort()\n",
    "proj_name = widgets.Dropdown(options = proj_name_list)\n",
    "display(proj_name)"
   ]
  },
  {
   "cell_type": "code",
   "execution_count": 34,
   "metadata": {},
   "outputs": [
    {
     "data": {
      "application/vnd.plotly.v1+json": {
       "config": {
        "plotlyServerURL": "https://plot.ly"
       },
       "data": [
        {
         "branchvalues": "total",
         "domain": {
          "x": [
           0,
           1
          ],
          "y": [
           0,
           1
          ]
         },
         "hovertemplate": "labels=%{label}<br>hours=%{value}<br>parent=%{parent}<br>id=%{id}<extra></extra>",
         "ids": [
          "Other personnel related costs/LS/Abel Soares Siqueira",
          "Other personnel related costs/TL/Adam Belloum",
          "Other personnel related costs/LS/Adriënne Mendrik",
          "Other personnel related costs/NS/Alessio Sclocco",
          "Other personnel related costs/ES/Barbara Vreede",
          "Other personnel related costs/NS/Ben van Werkhoven",
          "Other personnel related costs/SSH/Berend Weel",
          "Other personnel related costs/NS/Bjorn Bruns",
          "Other personnel related costs/ES/Bouwe Andela",
          "Other personnel related costs/NS/Carlos Martinez- Ortiz",
          "Other personnel related costs/SSH/Christiaan Meijer",
          "Other personnel related costs/LS/Cunliang Geng",
          "Other personnel related costs/SSH/Dafne van Kuppevelt",
          "Other personnel related costs/LS/Djura Smits",
          "Other personnel related costs/TL/Elena Ranguelova",
          "Other personnel related costs/SSH/Erik Tjong-Kim-Sang",
          "Other personnel related costs/Operation/Evelyn de Roos",
          "Other personnel related costs/NS/Felipe Zapata Ruiz",
          "Other personnel related costs/LS/Florian Huber",
          "Other personnel related costs/NS/Floris-Jan Willemsen",
          "Other personnel related costs/ES/Francesco Nattino",
          "Other personnel related costs/DT/Frank Seinstra",
          "Other personnel related costs/ES/Gijs van den Oord",
          "Other personnel related costs/NS/Hanno Spreeuw",
          "Other personnel related costs/NS/Inti Pelupessy",
          "Other personnel related costs/NS/Jaro Camphuijsen",
          "Other personnel related costs/TL/Jason Maassen",
          "Other personnel related costs/NS/Jens Wehner",
          "Other personnel related costs/ES/Jesús Garcia González",
          "Other personnel related costs/SSH/Jisk Attema",
          "Other personnel related costs/Operation/Joanne van Gurp",
          "Other personnel related costs/NS/Johan Hidding",
          "Other personnel related costs/DT/Joris van Eijnatten",
          "Other personnel related costs/SSH/Karima Akhiyad - El Hadji",
          "Other personnel related costs/NS/Konstantinos Asteriou",
          "Other personnel related costs/LS/Lars Ridder",
          "Other personnel related costs/NS/Leon Oostrum",
          "Other personnel related costs/SSH/Lieke de Boer",
          "Other personnel related costs/LS/Lourens Veen",
          "Other personnel related costs/ES/Maaike de Jong",
          "Other personnel related costs/ES/Maarten van Meersbergen",
          "Other personnel related costs/ES/Maria Chertova",
          "Other personnel related costs/Operation/Marije Kleijn",
          "Other personnel related costs/Operation/Mariëtte van der Zande",
          "Other personnel related costs/LS/Mateusz Kuzak",
          "Other personnel related costs/NS/Matthijs de Wit",
          "Other personnel related costs/NS/Meiert Grootes",
          "Other personnel related costs/NS/Merijn Verstraaten",
          "Other personnel related costs/DT/Monique van der Linden",
          "Other personnel related costs/NS/Nicolas Renaud",
          "Other personnel related costs/NS/Niek de Jonge",
          "Other personnel related costs/ES/Niels Drost",
          "Other personnel related costs/Operation/Noura Saïdi",
          "Other personnel related costs/ES/Ou Ku",
          "Other personnel related costs/LS/Pablo Lopez-Tarifa",
          "Other personnel related costs/NS/Pablo Rodriguez-Sanchez",
          "Other personnel related costs/SSH/Patrick Bos",
          "Other personnel related costs/ES/Peter Kalverla",
          "Other personnel related costs/LS/Peter Kok",
          "Other personnel related costs/Operation/Prem Rajaram",
          "Other personnel related costs/ES/Pushpanjali Pawar",
          "Other personnel related costs/NS/Rena Bakhshi",
          "Other personnel related costs/DT/Rob van Nieuwpoort",
          "Other personnel related costs/LS/Robin Richardson",
          "Other personnel related costs/Operation/Sacha van Breugel",
          "Other personnel related costs/ES/Sarah Alidoost",
          "Other personnel related costs/Operation/Shifaida Rostamkhan",
          "Other personnel related costs/LS/Sonja Georgievska",
          "Other personnel related costs/LS/Stef Smeets",
          "Other personnel related costs/LS/Stefan Verhoeven",
          "Other personnel related costs/NS/Stijn Heldens",
          "Other personnel related costs/LS/Sven van der Burg",
          "Other personnel related costs/ES/Thijs van Lankveld",
          "Other personnel related costs/Other/Tom Bakker",
          "Other personnel related costs/Operation/Veronica Pang",
          "Other personnel related costs/NS/Victor Azizi Tarksalooyeh",
          "Other personnel related costs/TL/Willem van Hage",
          "Other personnel related costs/ES/Yang Liu",
          "Other personnel related costs/ES/Yifat Dzigan",
          "Other personnel related costs/DT",
          "Other personnel related costs/ES",
          "Other personnel related costs/LS",
          "Other personnel related costs/NS",
          "Other personnel related costs/Operation",
          "Other personnel related costs/Other",
          "Other personnel related costs/SSH",
          "Other personnel related costs/TL",
          "Other personnel related costs"
         ],
         "labels": [
          "Abel Soares Siqueira",
          "Adam Belloum",
          "Adriënne Mendrik",
          "Alessio Sclocco",
          "Barbara Vreede",
          "Ben van Werkhoven",
          "Berend Weel",
          "Bjorn Bruns",
          "Bouwe Andela",
          "Carlos Martinez- Ortiz",
          "Christiaan Meijer",
          "Cunliang Geng",
          "Dafne van Kuppevelt",
          "Djura Smits",
          "Elena Ranguelova",
          "Erik Tjong-Kim-Sang",
          "Evelyn de Roos",
          "Felipe Zapata Ruiz",
          "Florian Huber",
          "Floris-Jan Willemsen",
          "Francesco Nattino",
          "Frank Seinstra",
          "Gijs van den Oord",
          "Hanno Spreeuw",
          "Inti Pelupessy",
          "Jaro Camphuijsen",
          "Jason Maassen",
          "Jens Wehner",
          "Jesús Garcia González",
          "Jisk Attema",
          "Joanne van Gurp",
          "Johan Hidding",
          "Joris van Eijnatten",
          "Karima Akhiyad - El Hadji",
          "Konstantinos Asteriou",
          "Lars Ridder",
          "Leon Oostrum",
          "Lieke de Boer",
          "Lourens Veen",
          "Maaike de Jong",
          "Maarten van Meersbergen",
          "Maria Chertova",
          "Marije Kleijn",
          "Mariëtte van der Zande",
          "Mateusz Kuzak",
          "Matthijs de Wit",
          "Meiert Grootes",
          "Merijn Verstraaten",
          "Monique van der Linden",
          "Nicolas Renaud",
          "Niek de Jonge",
          "Niels Drost",
          "Noura Saïdi",
          "Ou Ku",
          "Pablo Lopez-Tarifa",
          "Pablo Rodriguez-Sanchez",
          "Patrick Bos",
          "Peter Kalverla",
          "Peter Kok",
          "Prem Rajaram",
          "Pushpanjali Pawar",
          "Rena Bakhshi",
          "Rob van Nieuwpoort",
          "Robin Richardson",
          "Sacha van Breugel",
          "Sarah Alidoost",
          "Shifaida Rostamkhan",
          "Sonja Georgievska",
          "Stef Smeets",
          "Stefan Verhoeven",
          "Stijn Heldens",
          "Sven van der Burg",
          "Thijs van Lankveld",
          "Tom Bakker",
          "Veronica Pang",
          "Victor Azizi Tarksalooyeh",
          "Willem van Hage",
          "Yang Liu",
          "Yifat Dzigan",
          "DT",
          "ES",
          "LS",
          "NS",
          "Operation",
          "Other",
          "SSH",
          "TL",
          "Other personnel related costs"
         ],
         "name": "",
         "parents": [
          "Other personnel related costs/LS",
          "Other personnel related costs/TL",
          "Other personnel related costs/LS",
          "Other personnel related costs/NS",
          "Other personnel related costs/ES",
          "Other personnel related costs/NS",
          "Other personnel related costs/SSH",
          "Other personnel related costs/NS",
          "Other personnel related costs/ES",
          "Other personnel related costs/NS",
          "Other personnel related costs/SSH",
          "Other personnel related costs/LS",
          "Other personnel related costs/SSH",
          "Other personnel related costs/LS",
          "Other personnel related costs/TL",
          "Other personnel related costs/SSH",
          "Other personnel related costs/Operation",
          "Other personnel related costs/NS",
          "Other personnel related costs/LS",
          "Other personnel related costs/NS",
          "Other personnel related costs/ES",
          "Other personnel related costs/DT",
          "Other personnel related costs/ES",
          "Other personnel related costs/NS",
          "Other personnel related costs/NS",
          "Other personnel related costs/NS",
          "Other personnel related costs/TL",
          "Other personnel related costs/NS",
          "Other personnel related costs/ES",
          "Other personnel related costs/SSH",
          "Other personnel related costs/Operation",
          "Other personnel related costs/NS",
          "Other personnel related costs/DT",
          "Other personnel related costs/SSH",
          "Other personnel related costs/NS",
          "Other personnel related costs/LS",
          "Other personnel related costs/NS",
          "Other personnel related costs/SSH",
          "Other personnel related costs/LS",
          "Other personnel related costs/ES",
          "Other personnel related costs/ES",
          "Other personnel related costs/ES",
          "Other personnel related costs/Operation",
          "Other personnel related costs/Operation",
          "Other personnel related costs/LS",
          "Other personnel related costs/NS",
          "Other personnel related costs/NS",
          "Other personnel related costs/NS",
          "Other personnel related costs/DT",
          "Other personnel related costs/NS",
          "Other personnel related costs/NS",
          "Other personnel related costs/ES",
          "Other personnel related costs/Operation",
          "Other personnel related costs/ES",
          "Other personnel related costs/LS",
          "Other personnel related costs/NS",
          "Other personnel related costs/SSH",
          "Other personnel related costs/ES",
          "Other personnel related costs/LS",
          "Other personnel related costs/Operation",
          "Other personnel related costs/ES",
          "Other personnel related costs/NS",
          "Other personnel related costs/DT",
          "Other personnel related costs/LS",
          "Other personnel related costs/Operation",
          "Other personnel related costs/ES",
          "Other personnel related costs/Operation",
          "Other personnel related costs/LS",
          "Other personnel related costs/LS",
          "Other personnel related costs/LS",
          "Other personnel related costs/NS",
          "Other personnel related costs/LS",
          "Other personnel related costs/ES",
          "Other personnel related costs/Other",
          "Other personnel related costs/Operation",
          "Other personnel related costs/NS",
          "Other personnel related costs/TL",
          "Other personnel related costs/ES",
          "Other personnel related costs/ES",
          "Other personnel related costs",
          "Other personnel related costs",
          "Other personnel related costs",
          "Other personnel related costs",
          "Other personnel related costs",
          "Other personnel related costs",
          "Other personnel related costs",
          "Other personnel related costs",
          ""
         ],
         "type": "sunburst",
         "values": [
          40,
          49,
          64,
          305,
          853,
          126,
          144,
          243,
          250,
          184,
          126,
          176,
          217,
          112,
          296,
          192,
          140,
          144,
          120,
          360,
          250,
          260,
          326,
          208,
          145,
          136,
          104,
          274,
          202,
          132,
          122,
          304,
          160,
          135,
          352,
          139,
          193,
          160,
          250,
          173,
          312,
          235,
          353.5,
          164,
          190,
          704,
          266,
          155,
          176,
          242,
          232,
          112,
          567.5,
          214,
          210,
          231,
          201,
          158,
          124,
          115,
          302,
          244,
          156,
          204,
          145,
          244,
          80,
          161,
          140,
          116,
          14,
          221,
          281,
          188,
          48,
          108,
          136,
          182,
          152,
          752,
          4246,
          2267,
          5170,
          1735,
          188,
          1307,
          585,
          16250
         ]
        }
       ],
       "layout": {
        "legend": {
         "tracegroupgap": 0
        },
        "margin": {
         "t": 60
        },
        "template": {
         "data": {
          "bar": [
           {
            "error_x": {
             "color": "#2a3f5f"
            },
            "error_y": {
             "color": "#2a3f5f"
            },
            "marker": {
             "line": {
              "color": "#E5ECF6",
              "width": 0.5
             },
             "pattern": {
              "fillmode": "overlay",
              "size": 10,
              "solidity": 0.2
             }
            },
            "type": "bar"
           }
          ],
          "barpolar": [
           {
            "marker": {
             "line": {
              "color": "#E5ECF6",
              "width": 0.5
             },
             "pattern": {
              "fillmode": "overlay",
              "size": 10,
              "solidity": 0.2
             }
            },
            "type": "barpolar"
           }
          ],
          "carpet": [
           {
            "aaxis": {
             "endlinecolor": "#2a3f5f",
             "gridcolor": "white",
             "linecolor": "white",
             "minorgridcolor": "white",
             "startlinecolor": "#2a3f5f"
            },
            "baxis": {
             "endlinecolor": "#2a3f5f",
             "gridcolor": "white",
             "linecolor": "white",
             "minorgridcolor": "white",
             "startlinecolor": "#2a3f5f"
            },
            "type": "carpet"
           }
          ],
          "choropleth": [
           {
            "colorbar": {
             "outlinewidth": 0,
             "ticks": ""
            },
            "type": "choropleth"
           }
          ],
          "contour": [
           {
            "colorbar": {
             "outlinewidth": 0,
             "ticks": ""
            },
            "colorscale": [
             [
              0,
              "#0d0887"
             ],
             [
              0.1111111111111111,
              "#46039f"
             ],
             [
              0.2222222222222222,
              "#7201a8"
             ],
             [
              0.3333333333333333,
              "#9c179e"
             ],
             [
              0.4444444444444444,
              "#bd3786"
             ],
             [
              0.5555555555555556,
              "#d8576b"
             ],
             [
              0.6666666666666666,
              "#ed7953"
             ],
             [
              0.7777777777777778,
              "#fb9f3a"
             ],
             [
              0.8888888888888888,
              "#fdca26"
             ],
             [
              1,
              "#f0f921"
             ]
            ],
            "type": "contour"
           }
          ],
          "contourcarpet": [
           {
            "colorbar": {
             "outlinewidth": 0,
             "ticks": ""
            },
            "type": "contourcarpet"
           }
          ],
          "heatmap": [
           {
            "colorbar": {
             "outlinewidth": 0,
             "ticks": ""
            },
            "colorscale": [
             [
              0,
              "#0d0887"
             ],
             [
              0.1111111111111111,
              "#46039f"
             ],
             [
              0.2222222222222222,
              "#7201a8"
             ],
             [
              0.3333333333333333,
              "#9c179e"
             ],
             [
              0.4444444444444444,
              "#bd3786"
             ],
             [
              0.5555555555555556,
              "#d8576b"
             ],
             [
              0.6666666666666666,
              "#ed7953"
             ],
             [
              0.7777777777777778,
              "#fb9f3a"
             ],
             [
              0.8888888888888888,
              "#fdca26"
             ],
             [
              1,
              "#f0f921"
             ]
            ],
            "type": "heatmap"
           }
          ],
          "heatmapgl": [
           {
            "colorbar": {
             "outlinewidth": 0,
             "ticks": ""
            },
            "colorscale": [
             [
              0,
              "#0d0887"
             ],
             [
              0.1111111111111111,
              "#46039f"
             ],
             [
              0.2222222222222222,
              "#7201a8"
             ],
             [
              0.3333333333333333,
              "#9c179e"
             ],
             [
              0.4444444444444444,
              "#bd3786"
             ],
             [
              0.5555555555555556,
              "#d8576b"
             ],
             [
              0.6666666666666666,
              "#ed7953"
             ],
             [
              0.7777777777777778,
              "#fb9f3a"
             ],
             [
              0.8888888888888888,
              "#fdca26"
             ],
             [
              1,
              "#f0f921"
             ]
            ],
            "type": "heatmapgl"
           }
          ],
          "histogram": [
           {
            "marker": {
             "pattern": {
              "fillmode": "overlay",
              "size": 10,
              "solidity": 0.2
             }
            },
            "type": "histogram"
           }
          ],
          "histogram2d": [
           {
            "colorbar": {
             "outlinewidth": 0,
             "ticks": ""
            },
            "colorscale": [
             [
              0,
              "#0d0887"
             ],
             [
              0.1111111111111111,
              "#46039f"
             ],
             [
              0.2222222222222222,
              "#7201a8"
             ],
             [
              0.3333333333333333,
              "#9c179e"
             ],
             [
              0.4444444444444444,
              "#bd3786"
             ],
             [
              0.5555555555555556,
              "#d8576b"
             ],
             [
              0.6666666666666666,
              "#ed7953"
             ],
             [
              0.7777777777777778,
              "#fb9f3a"
             ],
             [
              0.8888888888888888,
              "#fdca26"
             ],
             [
              1,
              "#f0f921"
             ]
            ],
            "type": "histogram2d"
           }
          ],
          "histogram2dcontour": [
           {
            "colorbar": {
             "outlinewidth": 0,
             "ticks": ""
            },
            "colorscale": [
             [
              0,
              "#0d0887"
             ],
             [
              0.1111111111111111,
              "#46039f"
             ],
             [
              0.2222222222222222,
              "#7201a8"
             ],
             [
              0.3333333333333333,
              "#9c179e"
             ],
             [
              0.4444444444444444,
              "#bd3786"
             ],
             [
              0.5555555555555556,
              "#d8576b"
             ],
             [
              0.6666666666666666,
              "#ed7953"
             ],
             [
              0.7777777777777778,
              "#fb9f3a"
             ],
             [
              0.8888888888888888,
              "#fdca26"
             ],
             [
              1,
              "#f0f921"
             ]
            ],
            "type": "histogram2dcontour"
           }
          ],
          "mesh3d": [
           {
            "colorbar": {
             "outlinewidth": 0,
             "ticks": ""
            },
            "type": "mesh3d"
           }
          ],
          "parcoords": [
           {
            "line": {
             "colorbar": {
              "outlinewidth": 0,
              "ticks": ""
             }
            },
            "type": "parcoords"
           }
          ],
          "pie": [
           {
            "automargin": true,
            "type": "pie"
           }
          ],
          "scatter": [
           {
            "marker": {
             "colorbar": {
              "outlinewidth": 0,
              "ticks": ""
             }
            },
            "type": "scatter"
           }
          ],
          "scatter3d": [
           {
            "line": {
             "colorbar": {
              "outlinewidth": 0,
              "ticks": ""
             }
            },
            "marker": {
             "colorbar": {
              "outlinewidth": 0,
              "ticks": ""
             }
            },
            "type": "scatter3d"
           }
          ],
          "scattercarpet": [
           {
            "marker": {
             "colorbar": {
              "outlinewidth": 0,
              "ticks": ""
             }
            },
            "type": "scattercarpet"
           }
          ],
          "scattergeo": [
           {
            "marker": {
             "colorbar": {
              "outlinewidth": 0,
              "ticks": ""
             }
            },
            "type": "scattergeo"
           }
          ],
          "scattergl": [
           {
            "marker": {
             "colorbar": {
              "outlinewidth": 0,
              "ticks": ""
             }
            },
            "type": "scattergl"
           }
          ],
          "scattermapbox": [
           {
            "marker": {
             "colorbar": {
              "outlinewidth": 0,
              "ticks": ""
             }
            },
            "type": "scattermapbox"
           }
          ],
          "scatterpolar": [
           {
            "marker": {
             "colorbar": {
              "outlinewidth": 0,
              "ticks": ""
             }
            },
            "type": "scatterpolar"
           }
          ],
          "scatterpolargl": [
           {
            "marker": {
             "colorbar": {
              "outlinewidth": 0,
              "ticks": ""
             }
            },
            "type": "scatterpolargl"
           }
          ],
          "scatterternary": [
           {
            "marker": {
             "colorbar": {
              "outlinewidth": 0,
              "ticks": ""
             }
            },
            "type": "scatterternary"
           }
          ],
          "surface": [
           {
            "colorbar": {
             "outlinewidth": 0,
             "ticks": ""
            },
            "colorscale": [
             [
              0,
              "#0d0887"
             ],
             [
              0.1111111111111111,
              "#46039f"
             ],
             [
              0.2222222222222222,
              "#7201a8"
             ],
             [
              0.3333333333333333,
              "#9c179e"
             ],
             [
              0.4444444444444444,
              "#bd3786"
             ],
             [
              0.5555555555555556,
              "#d8576b"
             ],
             [
              0.6666666666666666,
              "#ed7953"
             ],
             [
              0.7777777777777778,
              "#fb9f3a"
             ],
             [
              0.8888888888888888,
              "#fdca26"
             ],
             [
              1,
              "#f0f921"
             ]
            ],
            "type": "surface"
           }
          ],
          "table": [
           {
            "cells": {
             "fill": {
              "color": "#EBF0F8"
             },
             "line": {
              "color": "white"
             }
            },
            "header": {
             "fill": {
              "color": "#C8D4E3"
             },
             "line": {
              "color": "white"
             }
            },
            "type": "table"
           }
          ]
         },
         "layout": {
          "annotationdefaults": {
           "arrowcolor": "#2a3f5f",
           "arrowhead": 0,
           "arrowwidth": 1
          },
          "autotypenumbers": "strict",
          "coloraxis": {
           "colorbar": {
            "outlinewidth": 0,
            "ticks": ""
           }
          },
          "colorscale": {
           "diverging": [
            [
             0,
             "#8e0152"
            ],
            [
             0.1,
             "#c51b7d"
            ],
            [
             0.2,
             "#de77ae"
            ],
            [
             0.3,
             "#f1b6da"
            ],
            [
             0.4,
             "#fde0ef"
            ],
            [
             0.5,
             "#f7f7f7"
            ],
            [
             0.6,
             "#e6f5d0"
            ],
            [
             0.7,
             "#b8e186"
            ],
            [
             0.8,
             "#7fbc41"
            ],
            [
             0.9,
             "#4d9221"
            ],
            [
             1,
             "#276419"
            ]
           ],
           "sequential": [
            [
             0,
             "#0d0887"
            ],
            [
             0.1111111111111111,
             "#46039f"
            ],
            [
             0.2222222222222222,
             "#7201a8"
            ],
            [
             0.3333333333333333,
             "#9c179e"
            ],
            [
             0.4444444444444444,
             "#bd3786"
            ],
            [
             0.5555555555555556,
             "#d8576b"
            ],
            [
             0.6666666666666666,
             "#ed7953"
            ],
            [
             0.7777777777777778,
             "#fb9f3a"
            ],
            [
             0.8888888888888888,
             "#fdca26"
            ],
            [
             1,
             "#f0f921"
            ]
           ],
           "sequentialminus": [
            [
             0,
             "#0d0887"
            ],
            [
             0.1111111111111111,
             "#46039f"
            ],
            [
             0.2222222222222222,
             "#7201a8"
            ],
            [
             0.3333333333333333,
             "#9c179e"
            ],
            [
             0.4444444444444444,
             "#bd3786"
            ],
            [
             0.5555555555555556,
             "#d8576b"
            ],
            [
             0.6666666666666666,
             "#ed7953"
            ],
            [
             0.7777777777777778,
             "#fb9f3a"
            ],
            [
             0.8888888888888888,
             "#fdca26"
            ],
            [
             1,
             "#f0f921"
            ]
           ]
          },
          "colorway": [
           "#636efa",
           "#EF553B",
           "#00cc96",
           "#ab63fa",
           "#FFA15A",
           "#19d3f3",
           "#FF6692",
           "#B6E880",
           "#FF97FF",
           "#FECB52"
          ],
          "font": {
           "color": "#2a3f5f"
          },
          "geo": {
           "bgcolor": "white",
           "lakecolor": "white",
           "landcolor": "#E5ECF6",
           "showlakes": true,
           "showland": true,
           "subunitcolor": "white"
          },
          "hoverlabel": {
           "align": "left"
          },
          "hovermode": "closest",
          "mapbox": {
           "style": "light"
          },
          "paper_bgcolor": "white",
          "plot_bgcolor": "#E5ECF6",
          "polar": {
           "angularaxis": {
            "gridcolor": "white",
            "linecolor": "white",
            "ticks": ""
           },
           "bgcolor": "#E5ECF6",
           "radialaxis": {
            "gridcolor": "white",
            "linecolor": "white",
            "ticks": ""
           }
          },
          "scene": {
           "xaxis": {
            "backgroundcolor": "#E5ECF6",
            "gridcolor": "white",
            "gridwidth": 2,
            "linecolor": "white",
            "showbackground": true,
            "ticks": "",
            "zerolinecolor": "white"
           },
           "yaxis": {
            "backgroundcolor": "#E5ECF6",
            "gridcolor": "white",
            "gridwidth": 2,
            "linecolor": "white",
            "showbackground": true,
            "ticks": "",
            "zerolinecolor": "white"
           },
           "zaxis": {
            "backgroundcolor": "#E5ECF6",
            "gridcolor": "white",
            "gridwidth": 2,
            "linecolor": "white",
            "showbackground": true,
            "ticks": "",
            "zerolinecolor": "white"
           }
          },
          "shapedefaults": {
           "line": {
            "color": "#2a3f5f"
           }
          },
          "ternary": {
           "aaxis": {
            "gridcolor": "white",
            "linecolor": "white",
            "ticks": ""
           },
           "baxis": {
            "gridcolor": "white",
            "linecolor": "white",
            "ticks": ""
           },
           "bgcolor": "#E5ECF6",
           "caxis": {
            "gridcolor": "white",
            "linecolor": "white",
            "ticks": ""
           }
          },
          "title": {
           "x": 0.05
          },
          "xaxis": {
           "automargin": true,
           "gridcolor": "white",
           "linecolor": "white",
           "ticks": "",
           "title": {
            "standoff": 15
           },
           "zerolinecolor": "white",
           "zerolinewidth": 2
          },
          "yaxis": {
           "automargin": true,
           "gridcolor": "white",
           "linecolor": "white",
           "ticks": "",
           "title": {
            "standoff": 15
           },
           "zerolinecolor": "white",
           "zerolinewidth": 2
          }
         }
        }
       }
      },
      "text/html": [
       "<div>                            <div id=\"e334c6cb-3a4d-4b19-8e7d-9d1035cc8d13\" class=\"plotly-graph-div\" style=\"height:525px; width:100%;\"></div>            <script type=\"text/javascript\">                require([\"plotly\"], function(Plotly) {                    window.PLOTLYENV=window.PLOTLYENV || {};                                    if (document.getElementById(\"e334c6cb-3a4d-4b19-8e7d-9d1035cc8d13\")) {                    Plotly.newPlot(                        \"e334c6cb-3a4d-4b19-8e7d-9d1035cc8d13\",                        [{\"branchvalues\":\"total\",\"domain\":{\"x\":[0.0,1.0],\"y\":[0.0,1.0]},\"hovertemplate\":\"labels=%{label}<br>hours=%{value}<br>parent=%{parent}<br>id=%{id}<extra></extra>\",\"ids\":[\"Other personnel related costs/LS/Abel Soares Siqueira\",\"Other personnel related costs/TL/Adam Belloum\",\"Other personnel related costs/LS/Adri\\u00ebnne Mendrik\",\"Other personnel related costs/NS/Alessio Sclocco\",\"Other personnel related costs/ES/Barbara Vreede\",\"Other personnel related costs/NS/Ben van Werkhoven\",\"Other personnel related costs/SSH/Berend Weel\",\"Other personnel related costs/NS/Bjorn Bruns\",\"Other personnel related costs/ES/Bouwe Andela\",\"Other personnel related costs/NS/Carlos Martinez- Ortiz\",\"Other personnel related costs/SSH/Christiaan Meijer\",\"Other personnel related costs/LS/Cunliang Geng\",\"Other personnel related costs/SSH/Dafne van Kuppevelt\",\"Other personnel related costs/LS/Djura Smits\",\"Other personnel related costs/TL/Elena Ranguelova\",\"Other personnel related costs/SSH/Erik Tjong-Kim-Sang\",\"Other personnel related costs/Operation/Evelyn de Roos\",\"Other personnel related costs/NS/Felipe Zapata Ruiz\",\"Other personnel related costs/LS/Florian Huber\",\"Other personnel related costs/NS/Floris-Jan Willemsen\",\"Other personnel related costs/ES/Francesco Nattino\",\"Other personnel related costs/DT/Frank Seinstra\",\"Other personnel related costs/ES/Gijs van den Oord\",\"Other personnel related costs/NS/Hanno Spreeuw\",\"Other personnel related costs/NS/Inti Pelupessy\",\"Other personnel related costs/NS/Jaro Camphuijsen\",\"Other personnel related costs/TL/Jason Maassen\",\"Other personnel related costs/NS/Jens Wehner\",\"Other personnel related costs/ES/Jes\\u00fas Garcia Gonz\\u00e1lez\",\"Other personnel related costs/SSH/Jisk Attema\",\"Other personnel related costs/Operation/Joanne van Gurp\",\"Other personnel related costs/NS/Johan Hidding\",\"Other personnel related costs/DT/Joris van Eijnatten\",\"Other personnel related costs/SSH/Karima Akhiyad - El Hadji\",\"Other personnel related costs/NS/Konstantinos Asteriou\",\"Other personnel related costs/LS/Lars Ridder\",\"Other personnel related costs/NS/Leon Oostrum\",\"Other personnel related costs/SSH/Lieke de Boer\",\"Other personnel related costs/LS/Lourens Veen\",\"Other personnel related costs/ES/Maaike de Jong\",\"Other personnel related costs/ES/Maarten van Meersbergen\",\"Other personnel related costs/ES/Maria Chertova\",\"Other personnel related costs/Operation/Marije Kleijn\",\"Other personnel related costs/Operation/Mari\\u00ebtte van der Zande\",\"Other personnel related costs/LS/Mateusz Kuzak\",\"Other personnel related costs/NS/Matthijs de Wit\",\"Other personnel related costs/NS/Meiert Grootes\",\"Other personnel related costs/NS/Merijn Verstraaten\",\"Other personnel related costs/DT/Monique van der Linden\",\"Other personnel related costs/NS/Nicolas Renaud\",\"Other personnel related costs/NS/Niek de Jonge\",\"Other personnel related costs/ES/Niels Drost\",\"Other personnel related costs/Operation/Noura Sa\\u00efdi\",\"Other personnel related costs/ES/Ou Ku\",\"Other personnel related costs/LS/Pablo Lopez-Tarifa\",\"Other personnel related costs/NS/Pablo Rodriguez-Sanchez\",\"Other personnel related costs/SSH/Patrick Bos\",\"Other personnel related costs/ES/Peter Kalverla\",\"Other personnel related costs/LS/Peter Kok\",\"Other personnel related costs/Operation/Prem Rajaram\",\"Other personnel related costs/ES/Pushpanjali Pawar\",\"Other personnel related costs/NS/Rena Bakhshi\",\"Other personnel related costs/DT/Rob van Nieuwpoort\",\"Other personnel related costs/LS/Robin Richardson\",\"Other personnel related costs/Operation/Sacha van Breugel\",\"Other personnel related costs/ES/Sarah Alidoost\",\"Other personnel related costs/Operation/Shifaida Rostamkhan\",\"Other personnel related costs/LS/Sonja Georgievska\",\"Other personnel related costs/LS/Stef Smeets\",\"Other personnel related costs/LS/Stefan Verhoeven\",\"Other personnel related costs/NS/Stijn Heldens\",\"Other personnel related costs/LS/Sven van der Burg\",\"Other personnel related costs/ES/Thijs van Lankveld\",\"Other personnel related costs/Other/Tom Bakker\",\"Other personnel related costs/Operation/Veronica Pang\",\"Other personnel related costs/NS/Victor Azizi Tarksalooyeh\",\"Other personnel related costs/TL/Willem van Hage\",\"Other personnel related costs/ES/Yang Liu\",\"Other personnel related costs/ES/Yifat Dzigan\",\"Other personnel related costs/DT\",\"Other personnel related costs/ES\",\"Other personnel related costs/LS\",\"Other personnel related costs/NS\",\"Other personnel related costs/Operation\",\"Other personnel related costs/Other\",\"Other personnel related costs/SSH\",\"Other personnel related costs/TL\",\"Other personnel related costs\"],\"labels\":[\"Abel Soares Siqueira\",\"Adam Belloum\",\"Adri\\u00ebnne Mendrik\",\"Alessio Sclocco\",\"Barbara Vreede\",\"Ben van Werkhoven\",\"Berend Weel\",\"Bjorn Bruns\",\"Bouwe Andela\",\"Carlos Martinez- Ortiz\",\"Christiaan Meijer\",\"Cunliang Geng\",\"Dafne van Kuppevelt\",\"Djura Smits\",\"Elena Ranguelova\",\"Erik Tjong-Kim-Sang\",\"Evelyn de Roos\",\"Felipe Zapata Ruiz\",\"Florian Huber\",\"Floris-Jan Willemsen\",\"Francesco Nattino\",\"Frank Seinstra\",\"Gijs van den Oord\",\"Hanno Spreeuw\",\"Inti Pelupessy\",\"Jaro Camphuijsen\",\"Jason Maassen\",\"Jens Wehner\",\"Jes\\u00fas Garcia Gonz\\u00e1lez\",\"Jisk Attema\",\"Joanne van Gurp\",\"Johan Hidding\",\"Joris van Eijnatten\",\"Karima Akhiyad - El Hadji\",\"Konstantinos Asteriou\",\"Lars Ridder\",\"Leon Oostrum\",\"Lieke de Boer\",\"Lourens Veen\",\"Maaike de Jong\",\"Maarten van Meersbergen\",\"Maria Chertova\",\"Marije Kleijn\",\"Mari\\u00ebtte van der Zande\",\"Mateusz Kuzak\",\"Matthijs de Wit\",\"Meiert Grootes\",\"Merijn Verstraaten\",\"Monique van der Linden\",\"Nicolas Renaud\",\"Niek de Jonge\",\"Niels Drost\",\"Noura Sa\\u00efdi\",\"Ou Ku\",\"Pablo Lopez-Tarifa\",\"Pablo Rodriguez-Sanchez\",\"Patrick Bos\",\"Peter Kalverla\",\"Peter Kok\",\"Prem Rajaram\",\"Pushpanjali Pawar\",\"Rena Bakhshi\",\"Rob van Nieuwpoort\",\"Robin Richardson\",\"Sacha van Breugel\",\"Sarah Alidoost\",\"Shifaida Rostamkhan\",\"Sonja Georgievska\",\"Stef Smeets\",\"Stefan Verhoeven\",\"Stijn Heldens\",\"Sven van der Burg\",\"Thijs van Lankveld\",\"Tom Bakker\",\"Veronica Pang\",\"Victor Azizi Tarksalooyeh\",\"Willem van Hage\",\"Yang Liu\",\"Yifat Dzigan\",\"DT\",\"ES\",\"LS\",\"NS\",\"Operation\",\"Other\",\"SSH\",\"TL\",\"Other personnel related costs\"],\"name\":\"\",\"parents\":[\"Other personnel related costs/LS\",\"Other personnel related costs/TL\",\"Other personnel related costs/LS\",\"Other personnel related costs/NS\",\"Other personnel related costs/ES\",\"Other personnel related costs/NS\",\"Other personnel related costs/SSH\",\"Other personnel related costs/NS\",\"Other personnel related costs/ES\",\"Other personnel related costs/NS\",\"Other personnel related costs/SSH\",\"Other personnel related costs/LS\",\"Other personnel related costs/SSH\",\"Other personnel related costs/LS\",\"Other personnel related costs/TL\",\"Other personnel related costs/SSH\",\"Other personnel related costs/Operation\",\"Other personnel related costs/NS\",\"Other personnel related costs/LS\",\"Other personnel related costs/NS\",\"Other personnel related costs/ES\",\"Other personnel related costs/DT\",\"Other personnel related costs/ES\",\"Other personnel related costs/NS\",\"Other personnel related costs/NS\",\"Other personnel related costs/NS\",\"Other personnel related costs/TL\",\"Other personnel related costs/NS\",\"Other personnel related costs/ES\",\"Other personnel related costs/SSH\",\"Other personnel related costs/Operation\",\"Other personnel related costs/NS\",\"Other personnel related costs/DT\",\"Other personnel related costs/SSH\",\"Other personnel related costs/NS\",\"Other personnel related costs/LS\",\"Other personnel related costs/NS\",\"Other personnel related costs/SSH\",\"Other personnel related costs/LS\",\"Other personnel related costs/ES\",\"Other personnel related costs/ES\",\"Other personnel related costs/ES\",\"Other personnel related costs/Operation\",\"Other personnel related costs/Operation\",\"Other personnel related costs/LS\",\"Other personnel related costs/NS\",\"Other personnel related costs/NS\",\"Other personnel related costs/NS\",\"Other personnel related costs/DT\",\"Other personnel related costs/NS\",\"Other personnel related costs/NS\",\"Other personnel related costs/ES\",\"Other personnel related costs/Operation\",\"Other personnel related costs/ES\",\"Other personnel related costs/LS\",\"Other personnel related costs/NS\",\"Other personnel related costs/SSH\",\"Other personnel related costs/ES\",\"Other personnel related costs/LS\",\"Other personnel related costs/Operation\",\"Other personnel related costs/ES\",\"Other personnel related costs/NS\",\"Other personnel related costs/DT\",\"Other personnel related costs/LS\",\"Other personnel related costs/Operation\",\"Other personnel related costs/ES\",\"Other personnel related costs/Operation\",\"Other personnel related costs/LS\",\"Other personnel related costs/LS\",\"Other personnel related costs/LS\",\"Other personnel related costs/NS\",\"Other personnel related costs/LS\",\"Other personnel related costs/ES\",\"Other personnel related costs/Other\",\"Other personnel related costs/Operation\",\"Other personnel related costs/NS\",\"Other personnel related costs/TL\",\"Other personnel related costs/ES\",\"Other personnel related costs/ES\",\"Other personnel related costs\",\"Other personnel related costs\",\"Other personnel related costs\",\"Other personnel related costs\",\"Other personnel related costs\",\"Other personnel related costs\",\"Other personnel related costs\",\"Other personnel related costs\",\"\"],\"values\":[40.0,49.0,64.0,305.0,853.0,126.0,144.0,243.0,250.0,184.0,126.0,176.0,217.0,112.0,296.0,192.0,140.0,144.0,120.0,360.0,250.0,260.0,326.0,208.0,145.0,136.0,104.0,274.0,202.0,132.0,122.0,304.0,160.0,135.0,352.0,139.0,193.0,160.0,250.0,173.0,312.0,235.0,353.5,164.0,190.0,704.0,266.0,155.0,176.0,242.0,232.0,112.0,567.5,214.0,210.0,231.0,201.0,158.0,124.0,115.0,302.0,244.0,156.0,204.0,145.0,244.0,80.0,161.0,140.0,116.0,14.0,221.0,281.0,188.0,48.0,108.0,136.0,182.0,152.0,752.0,4246.0,2267.0,5170.0,1735.0,188.0,1307.0,585.0,16250.0],\"type\":\"sunburst\"}],                        {\"template\":{\"data\":{\"bar\":[{\"error_x\":{\"color\":\"#2a3f5f\"},\"error_y\":{\"color\":\"#2a3f5f\"},\"marker\":{\"line\":{\"color\":\"#E5ECF6\",\"width\":0.5},\"pattern\":{\"fillmode\":\"overlay\",\"size\":10,\"solidity\":0.2}},\"type\":\"bar\"}],\"barpolar\":[{\"marker\":{\"line\":{\"color\":\"#E5ECF6\",\"width\":0.5},\"pattern\":{\"fillmode\":\"overlay\",\"size\":10,\"solidity\":0.2}},\"type\":\"barpolar\"}],\"carpet\":[{\"aaxis\":{\"endlinecolor\":\"#2a3f5f\",\"gridcolor\":\"white\",\"linecolor\":\"white\",\"minorgridcolor\":\"white\",\"startlinecolor\":\"#2a3f5f\"},\"baxis\":{\"endlinecolor\":\"#2a3f5f\",\"gridcolor\":\"white\",\"linecolor\":\"white\",\"minorgridcolor\":\"white\",\"startlinecolor\":\"#2a3f5f\"},\"type\":\"carpet\"}],\"choropleth\":[{\"colorbar\":{\"outlinewidth\":0,\"ticks\":\"\"},\"type\":\"choropleth\"}],\"contour\":[{\"colorbar\":{\"outlinewidth\":0,\"ticks\":\"\"},\"colorscale\":[[0.0,\"#0d0887\"],[0.1111111111111111,\"#46039f\"],[0.2222222222222222,\"#7201a8\"],[0.3333333333333333,\"#9c179e\"],[0.4444444444444444,\"#bd3786\"],[0.5555555555555556,\"#d8576b\"],[0.6666666666666666,\"#ed7953\"],[0.7777777777777778,\"#fb9f3a\"],[0.8888888888888888,\"#fdca26\"],[1.0,\"#f0f921\"]],\"type\":\"contour\"}],\"contourcarpet\":[{\"colorbar\":{\"outlinewidth\":0,\"ticks\":\"\"},\"type\":\"contourcarpet\"}],\"heatmap\":[{\"colorbar\":{\"outlinewidth\":0,\"ticks\":\"\"},\"colorscale\":[[0.0,\"#0d0887\"],[0.1111111111111111,\"#46039f\"],[0.2222222222222222,\"#7201a8\"],[0.3333333333333333,\"#9c179e\"],[0.4444444444444444,\"#bd3786\"],[0.5555555555555556,\"#d8576b\"],[0.6666666666666666,\"#ed7953\"],[0.7777777777777778,\"#fb9f3a\"],[0.8888888888888888,\"#fdca26\"],[1.0,\"#f0f921\"]],\"type\":\"heatmap\"}],\"heatmapgl\":[{\"colorbar\":{\"outlinewidth\":0,\"ticks\":\"\"},\"colorscale\":[[0.0,\"#0d0887\"],[0.1111111111111111,\"#46039f\"],[0.2222222222222222,\"#7201a8\"],[0.3333333333333333,\"#9c179e\"],[0.4444444444444444,\"#bd3786\"],[0.5555555555555556,\"#d8576b\"],[0.6666666666666666,\"#ed7953\"],[0.7777777777777778,\"#fb9f3a\"],[0.8888888888888888,\"#fdca26\"],[1.0,\"#f0f921\"]],\"type\":\"heatmapgl\"}],\"histogram\":[{\"marker\":{\"pattern\":{\"fillmode\":\"overlay\",\"size\":10,\"solidity\":0.2}},\"type\":\"histogram\"}],\"histogram2d\":[{\"colorbar\":{\"outlinewidth\":0,\"ticks\":\"\"},\"colorscale\":[[0.0,\"#0d0887\"],[0.1111111111111111,\"#46039f\"],[0.2222222222222222,\"#7201a8\"],[0.3333333333333333,\"#9c179e\"],[0.4444444444444444,\"#bd3786\"],[0.5555555555555556,\"#d8576b\"],[0.6666666666666666,\"#ed7953\"],[0.7777777777777778,\"#fb9f3a\"],[0.8888888888888888,\"#fdca26\"],[1.0,\"#f0f921\"]],\"type\":\"histogram2d\"}],\"histogram2dcontour\":[{\"colorbar\":{\"outlinewidth\":0,\"ticks\":\"\"},\"colorscale\":[[0.0,\"#0d0887\"],[0.1111111111111111,\"#46039f\"],[0.2222222222222222,\"#7201a8\"],[0.3333333333333333,\"#9c179e\"],[0.4444444444444444,\"#bd3786\"],[0.5555555555555556,\"#d8576b\"],[0.6666666666666666,\"#ed7953\"],[0.7777777777777778,\"#fb9f3a\"],[0.8888888888888888,\"#fdca26\"],[1.0,\"#f0f921\"]],\"type\":\"histogram2dcontour\"}],\"mesh3d\":[{\"colorbar\":{\"outlinewidth\":0,\"ticks\":\"\"},\"type\":\"mesh3d\"}],\"parcoords\":[{\"line\":{\"colorbar\":{\"outlinewidth\":0,\"ticks\":\"\"}},\"type\":\"parcoords\"}],\"pie\":[{\"automargin\":true,\"type\":\"pie\"}],\"scatter\":[{\"marker\":{\"colorbar\":{\"outlinewidth\":0,\"ticks\":\"\"}},\"type\":\"scatter\"}],\"scatter3d\":[{\"line\":{\"colorbar\":{\"outlinewidth\":0,\"ticks\":\"\"}},\"marker\":{\"colorbar\":{\"outlinewidth\":0,\"ticks\":\"\"}},\"type\":\"scatter3d\"}],\"scattercarpet\":[{\"marker\":{\"colorbar\":{\"outlinewidth\":0,\"ticks\":\"\"}},\"type\":\"scattercarpet\"}],\"scattergeo\":[{\"marker\":{\"colorbar\":{\"outlinewidth\":0,\"ticks\":\"\"}},\"type\":\"scattergeo\"}],\"scattergl\":[{\"marker\":{\"colorbar\":{\"outlinewidth\":0,\"ticks\":\"\"}},\"type\":\"scattergl\"}],\"scattermapbox\":[{\"marker\":{\"colorbar\":{\"outlinewidth\":0,\"ticks\":\"\"}},\"type\":\"scattermapbox\"}],\"scatterpolar\":[{\"marker\":{\"colorbar\":{\"outlinewidth\":0,\"ticks\":\"\"}},\"type\":\"scatterpolar\"}],\"scatterpolargl\":[{\"marker\":{\"colorbar\":{\"outlinewidth\":0,\"ticks\":\"\"}},\"type\":\"scatterpolargl\"}],\"scatterternary\":[{\"marker\":{\"colorbar\":{\"outlinewidth\":0,\"ticks\":\"\"}},\"type\":\"scatterternary\"}],\"surface\":[{\"colorbar\":{\"outlinewidth\":0,\"ticks\":\"\"},\"colorscale\":[[0.0,\"#0d0887\"],[0.1111111111111111,\"#46039f\"],[0.2222222222222222,\"#7201a8\"],[0.3333333333333333,\"#9c179e\"],[0.4444444444444444,\"#bd3786\"],[0.5555555555555556,\"#d8576b\"],[0.6666666666666666,\"#ed7953\"],[0.7777777777777778,\"#fb9f3a\"],[0.8888888888888888,\"#fdca26\"],[1.0,\"#f0f921\"]],\"type\":\"surface\"}],\"table\":[{\"cells\":{\"fill\":{\"color\":\"#EBF0F8\"},\"line\":{\"color\":\"white\"}},\"header\":{\"fill\":{\"color\":\"#C8D4E3\"},\"line\":{\"color\":\"white\"}},\"type\":\"table\"}]},\"layout\":{\"annotationdefaults\":{\"arrowcolor\":\"#2a3f5f\",\"arrowhead\":0,\"arrowwidth\":1},\"autotypenumbers\":\"strict\",\"coloraxis\":{\"colorbar\":{\"outlinewidth\":0,\"ticks\":\"\"}},\"colorscale\":{\"diverging\":[[0,\"#8e0152\"],[0.1,\"#c51b7d\"],[0.2,\"#de77ae\"],[0.3,\"#f1b6da\"],[0.4,\"#fde0ef\"],[0.5,\"#f7f7f7\"],[0.6,\"#e6f5d0\"],[0.7,\"#b8e186\"],[0.8,\"#7fbc41\"],[0.9,\"#4d9221\"],[1,\"#276419\"]],\"sequential\":[[0.0,\"#0d0887\"],[0.1111111111111111,\"#46039f\"],[0.2222222222222222,\"#7201a8\"],[0.3333333333333333,\"#9c179e\"],[0.4444444444444444,\"#bd3786\"],[0.5555555555555556,\"#d8576b\"],[0.6666666666666666,\"#ed7953\"],[0.7777777777777778,\"#fb9f3a\"],[0.8888888888888888,\"#fdca26\"],[1.0,\"#f0f921\"]],\"sequentialminus\":[[0.0,\"#0d0887\"],[0.1111111111111111,\"#46039f\"],[0.2222222222222222,\"#7201a8\"],[0.3333333333333333,\"#9c179e\"],[0.4444444444444444,\"#bd3786\"],[0.5555555555555556,\"#d8576b\"],[0.6666666666666666,\"#ed7953\"],[0.7777777777777778,\"#fb9f3a\"],[0.8888888888888888,\"#fdca26\"],[1.0,\"#f0f921\"]]},\"colorway\":[\"#636efa\",\"#EF553B\",\"#00cc96\",\"#ab63fa\",\"#FFA15A\",\"#19d3f3\",\"#FF6692\",\"#B6E880\",\"#FF97FF\",\"#FECB52\"],\"font\":{\"color\":\"#2a3f5f\"},\"geo\":{\"bgcolor\":\"white\",\"lakecolor\":\"white\",\"landcolor\":\"#E5ECF6\",\"showlakes\":true,\"showland\":true,\"subunitcolor\":\"white\"},\"hoverlabel\":{\"align\":\"left\"},\"hovermode\":\"closest\",\"mapbox\":{\"style\":\"light\"},\"paper_bgcolor\":\"white\",\"plot_bgcolor\":\"#E5ECF6\",\"polar\":{\"angularaxis\":{\"gridcolor\":\"white\",\"linecolor\":\"white\",\"ticks\":\"\"},\"bgcolor\":\"#E5ECF6\",\"radialaxis\":{\"gridcolor\":\"white\",\"linecolor\":\"white\",\"ticks\":\"\"}},\"scene\":{\"xaxis\":{\"backgroundcolor\":\"#E5ECF6\",\"gridcolor\":\"white\",\"gridwidth\":2,\"linecolor\":\"white\",\"showbackground\":true,\"ticks\":\"\",\"zerolinecolor\":\"white\"},\"yaxis\":{\"backgroundcolor\":\"#E5ECF6\",\"gridcolor\":\"white\",\"gridwidth\":2,\"linecolor\":\"white\",\"showbackground\":true,\"ticks\":\"\",\"zerolinecolor\":\"white\"},\"zaxis\":{\"backgroundcolor\":\"#E5ECF6\",\"gridcolor\":\"white\",\"gridwidth\":2,\"linecolor\":\"white\",\"showbackground\":true,\"ticks\":\"\",\"zerolinecolor\":\"white\"}},\"shapedefaults\":{\"line\":{\"color\":\"#2a3f5f\"}},\"ternary\":{\"aaxis\":{\"gridcolor\":\"white\",\"linecolor\":\"white\",\"ticks\":\"\"},\"baxis\":{\"gridcolor\":\"white\",\"linecolor\":\"white\",\"ticks\":\"\"},\"bgcolor\":\"#E5ECF6\",\"caxis\":{\"gridcolor\":\"white\",\"linecolor\":\"white\",\"ticks\":\"\"}},\"title\":{\"x\":0.05},\"xaxis\":{\"automargin\":true,\"gridcolor\":\"white\",\"linecolor\":\"white\",\"ticks\":\"\",\"title\":{\"standoff\":15},\"zerolinecolor\":\"white\",\"zerolinewidth\":2},\"yaxis\":{\"automargin\":true,\"gridcolor\":\"white\",\"linecolor\":\"white\",\"ticks\":\"\",\"title\":{\"standoff\":15},\"zerolinecolor\":\"white\",\"zerolinewidth\":2}}},\"legend\":{\"tracegroupgap\":0},\"margin\":{\"t\":60}},                        {\"responsive\": true}                    ).then(function(){\n",
       "                            \n",
       "var gd = document.getElementById('e334c6cb-3a4d-4b19-8e7d-9d1035cc8d13');\n",
       "var x = new MutationObserver(function (mutations, observer) {{\n",
       "        var display = window.getComputedStyle(gd).display;\n",
       "        if (!display || display === 'none') {{\n",
       "            console.log([gd, 'removed!']);\n",
       "            Plotly.purge(gd);\n",
       "            observer.disconnect();\n",
       "        }}\n",
       "}});\n",
       "\n",
       "// Listen for the removal of the full notebook cells\n",
       "var notebookContainer = gd.closest('#notebook-container');\n",
       "if (notebookContainer) {{\n",
       "    x.observe(notebookContainer, {childList: true});\n",
       "}}\n",
       "\n",
       "// Listen for the clearing of the current output cell\n",
       "var outputEl = gd.closest('.output');\n",
       "if (outputEl) {{\n",
       "    x.observe(outputEl, {childList: true});\n",
       "}}\n",
       "\n",
       "                        })                };                });            </script>        </div>"
      ]
     },
     "metadata": {},
     "output_type": "display_data"
    }
   ],
   "source": [
    "plot_project_sunburst(df, proj_name.value)"
   ]
  },
  {
   "cell_type": "code",
   "execution_count": null,
   "metadata": {},
   "outputs": [],
   "source": []
  }
 ],
 "metadata": {
  "kernelspec": {
   "display_name": "Python 3",
   "language": "python",
   "name": "python3"
  },
  "language_info": {
   "codemirror_mode": {
    "name": "ipython",
    "version": 3
   },
   "file_extension": ".py",
   "mimetype": "text/x-python",
   "name": "python",
   "nbconvert_exporter": "python",
   "pygments_lexer": "ipython3",
   "version": "3.6.13"
  }
 },
 "nbformat": 4,
 "nbformat_minor": 4
}
